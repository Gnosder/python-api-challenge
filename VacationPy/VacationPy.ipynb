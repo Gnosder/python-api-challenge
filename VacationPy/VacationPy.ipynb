{
 "cells": [
  {
   "cell_type": "markdown",
   "metadata": {},
   "source": [
    "# VacationPy\n",
    "----\n",
    "\n",
    "#### Note\n",
    "* Instructions have been included for each segment. You do not have to follow them exactly, but they are included to help you think through the steps."
   ]
  },
  {
   "cell_type": "code",
   "execution_count": 1,
   "metadata": {},
   "outputs": [],
   "source": [
    "# Dependencies and Setup\n",
    "import matplotlib.pyplot as plt\n",
    "import pandas as pd\n",
    "import numpy as np\n",
    "import requests\n",
    "import gmaps\n",
    "import os\n",
    "\n",
    "# Import API key\n",
    "from api_keys import g_key"
   ]
  },
  {
   "cell_type": "code",
   "execution_count": 2,
   "metadata": {},
   "outputs": [],
   "source": [
    "# Thing?\n",
    "# jupyter nbextension enable --py gmaps"
   ]
  },
  {
   "cell_type": "markdown",
   "metadata": {},
   "source": [
    "### Store Part I results into DataFrame\n",
    "* Load the csv exported in Part I to a DataFrame"
   ]
  },
  {
   "cell_type": "code",
   "execution_count": 3,
   "metadata": {},
   "outputs": [
    {
     "output_type": "execute_result",
     "data": {
      "text/plain": "City           object\nLat           float64\nLng           float64\nMax Temp      float64\nHumidity        int64\nCloudiness      int64\nWind Speed    float64\nCountry        object\nDate            int64\ndtype: object"
     },
     "metadata": {},
     "execution_count": 3
    }
   ],
   "source": [
    "cities_df = pd.read_csv('../Output/cities.csv')\n",
    "cities_df.head()\n",
    "cities_df.dtypes\n"
   ]
  },
  {
   "cell_type": "markdown",
   "metadata": {},
   "source": [
    "### Humidity Heatmap\n",
    "* Configure gmaps.\n",
    "* Use the Lat and Lng as locations and Humidity as the weight.\n",
    "* Add Heatmap layer to map."
   ]
  },
  {
   "cell_type": "code",
   "execution_count": 4,
   "metadata": {},
   "outputs": [],
   "source": [
    "# Configure\n",
    "gmaps.configure(api_key=g_key)"
   ]
  },
  {
   "cell_type": "code",
   "execution_count": 5,
   "metadata": {},
   "outputs": [],
   "source": [
    "# Store 'Lat' and 'Lng' into  locations\n",
    "locations_df = cities_df[['Lat','Lng']].astype(float)\n",
    "\n",
    "# convert humidity to float\n",
    "humidity_s = cities_df['Humidity'].astype(float)"
   ]
  },
  {
   "cell_type": "code",
   "execution_count": 6,
   "metadata": {},
   "outputs": [],
   "source": [
    "# Create Humidity heatmap layer\n",
    "fig_humidity = gmaps.figure()\n",
    "\n",
    "head_layer = gmaps.heatmap_layer(locations_df, weights=humidity_s, dissipating=False, max_intensity=100, point_radius=1)\n",
    "\n",
    "fig_humidity.add_layer(head_layer)\n",
    "#fig_humidity"
   ]
  },
  {
   "cell_type": "markdown",
   "metadata": {},
   "source": [
    "### Create new DataFrame fitting weather criteria\n",
    "* Narrow down the cities to fit weather conditions.\n",
    "* Drop any rows will null values."
   ]
  },
  {
   "cell_type": "code",
   "execution_count": 7,
   "metadata": {},
   "outputs": [
    {
     "output_type": "execute_result",
     "data": {
      "text/plain": "             Lat         Lng   Max Temp   Humidity  Cloudiness  Wind Speed  \\\ncount  57.000000   57.000000  57.000000  57.000000   57.000000   57.000000   \nmean   28.911053   27.192105  16.068596  60.368421   74.789474    3.355789   \nstd    43.211472   90.619820   4.958194  12.355785   21.496459    2.028366   \nmin   -54.800000 -149.900000   2.000000   9.000000   32.000000    0.460000   \n25%   -20.100000  -54.920000  14.000000  57.000000   58.000000    1.830000   \n50%    47.730000   30.790000  16.150000  63.000000   75.000000    2.900000   \n75%    65.200000   88.400000  20.000000  69.000000   98.000000    4.600000   \nmax    78.220000  177.480000  22.910000  74.000000  100.000000    8.180000   \n\n               Date  \ncount  5.700000e+01  \nmean   1.594539e+09  \nstd    6.915573e+01  \nmin    1.594539e+09  \n25%    1.594539e+09  \n50%    1.594539e+09  \n75%    1.594539e+09  \nmax    1.594539e+09  ",
      "text/html": "<div>\n<style scoped>\n    .dataframe tbody tr th:only-of-type {\n        vertical-align: middle;\n    }\n\n    .dataframe tbody tr th {\n        vertical-align: top;\n    }\n\n    .dataframe thead th {\n        text-align: right;\n    }\n</style>\n<table border=\"1\" class=\"dataframe\">\n  <thead>\n    <tr style=\"text-align: right;\">\n      <th></th>\n      <th>Lat</th>\n      <th>Lng</th>\n      <th>Max Temp</th>\n      <th>Humidity</th>\n      <th>Cloudiness</th>\n      <th>Wind Speed</th>\n      <th>Date</th>\n    </tr>\n  </thead>\n  <tbody>\n    <tr>\n      <th>count</th>\n      <td>57.000000</td>\n      <td>57.000000</td>\n      <td>57.000000</td>\n      <td>57.000000</td>\n      <td>57.000000</td>\n      <td>57.000000</td>\n      <td>5.700000e+01</td>\n    </tr>\n    <tr>\n      <th>mean</th>\n      <td>28.911053</td>\n      <td>27.192105</td>\n      <td>16.068596</td>\n      <td>60.368421</td>\n      <td>74.789474</td>\n      <td>3.355789</td>\n      <td>1.594539e+09</td>\n    </tr>\n    <tr>\n      <th>std</th>\n      <td>43.211472</td>\n      <td>90.619820</td>\n      <td>4.958194</td>\n      <td>12.355785</td>\n      <td>21.496459</td>\n      <td>2.028366</td>\n      <td>6.915573e+01</td>\n    </tr>\n    <tr>\n      <th>min</th>\n      <td>-54.800000</td>\n      <td>-149.900000</td>\n      <td>2.000000</td>\n      <td>9.000000</td>\n      <td>32.000000</td>\n      <td>0.460000</td>\n      <td>1.594539e+09</td>\n    </tr>\n    <tr>\n      <th>25%</th>\n      <td>-20.100000</td>\n      <td>-54.920000</td>\n      <td>14.000000</td>\n      <td>57.000000</td>\n      <td>58.000000</td>\n      <td>1.830000</td>\n      <td>1.594539e+09</td>\n    </tr>\n    <tr>\n      <th>50%</th>\n      <td>47.730000</td>\n      <td>30.790000</td>\n      <td>16.150000</td>\n      <td>63.000000</td>\n      <td>75.000000</td>\n      <td>2.900000</td>\n      <td>1.594539e+09</td>\n    </tr>\n    <tr>\n      <th>75%</th>\n      <td>65.200000</td>\n      <td>88.400000</td>\n      <td>20.000000</td>\n      <td>69.000000</td>\n      <td>98.000000</td>\n      <td>4.600000</td>\n      <td>1.594539e+09</td>\n    </tr>\n    <tr>\n      <th>max</th>\n      <td>78.220000</td>\n      <td>177.480000</td>\n      <td>22.910000</td>\n      <td>74.000000</td>\n      <td>100.000000</td>\n      <td>8.180000</td>\n      <td>1.594539e+09</td>\n    </tr>\n  </tbody>\n</table>\n</div>"
     },
     "metadata": {},
     "execution_count": 7
    }
   ],
   "source": [
    "# ideal conditions\n",
    "# temp < 70\n",
    "# cloudiness > 50\n",
    "# humidity < 60\n",
    "\n",
    "#ideal_df = cities_df[cities_df['Max Temp'] < 70 and cities_df['Cloudiness'] > 50 and cities_df['Humidity'] < 30]\n",
    "ideal_df_1 = cities_df[cities_df['Max Temp'] < 23]\n",
    "ideal_df_2 = ideal_df_1[ideal_df_1['Cloudiness'] > 25]\n",
    "ideal_df = ideal_df_2[ideal_df_2['Humidity'] < 75]\n",
    "ideal_df.describe()"
   ]
  },
  {
   "cell_type": "code",
   "execution_count": 8,
   "metadata": {},
   "outputs": [
    {
     "output_type": "execute_result",
     "data": {
      "text/plain": "              City    Lat     Lng  Max Temp  Humidity  Cloudiness  Wind Speed  \\\n1          College  64.86 -147.80     17.00        63          40        1.50   \n21         Ushuaia -54.80  -68.30      2.00        74          39        7.70   \n27      Chokurdakh  70.63  147.92     22.91        43         100        4.34   \n33      Nikolskoye  59.70   30.79     18.89        67          75        3.00   \n34  Guerrero Negro  27.98 -114.06     22.59        60          93        5.44   \n43        Yar-Sale  66.83   70.83     16.61        60          86        2.22   \n45          Dalvik  65.97  -18.53     14.00        58          40        1.50   \n77    Constitución -35.33  -72.42      8.99        71         100        1.83   \n79          Vostok  46.49  135.88     21.54        67          55        0.66   \n81         Neuquén -38.95  -68.06      6.00        66         100        2.10   \n\n   Country        Date  \n1       US  1594538983  \n21      AR  1594538988  \n27      RU  1594538989  \n33      RU  1594538991  \n34      MX  1594538991  \n43      RU  1594538993  \n45      IS  1594538994  \n77      CL  1594539002  \n79      RU  1594539002  \n81      AR  1594538956  ",
      "text/html": "<div>\n<style scoped>\n    .dataframe tbody tr th:only-of-type {\n        vertical-align: middle;\n    }\n\n    .dataframe tbody tr th {\n        vertical-align: top;\n    }\n\n    .dataframe thead th {\n        text-align: right;\n    }\n</style>\n<table border=\"1\" class=\"dataframe\">\n  <thead>\n    <tr style=\"text-align: right;\">\n      <th></th>\n      <th>City</th>\n      <th>Lat</th>\n      <th>Lng</th>\n      <th>Max Temp</th>\n      <th>Humidity</th>\n      <th>Cloudiness</th>\n      <th>Wind Speed</th>\n      <th>Country</th>\n      <th>Date</th>\n    </tr>\n  </thead>\n  <tbody>\n    <tr>\n      <th>1</th>\n      <td>College</td>\n      <td>64.86</td>\n      <td>-147.80</td>\n      <td>17.00</td>\n      <td>63</td>\n      <td>40</td>\n      <td>1.50</td>\n      <td>US</td>\n      <td>1594538983</td>\n    </tr>\n    <tr>\n      <th>21</th>\n      <td>Ushuaia</td>\n      <td>-54.80</td>\n      <td>-68.30</td>\n      <td>2.00</td>\n      <td>74</td>\n      <td>39</td>\n      <td>7.70</td>\n      <td>AR</td>\n      <td>1594538988</td>\n    </tr>\n    <tr>\n      <th>27</th>\n      <td>Chokurdakh</td>\n      <td>70.63</td>\n      <td>147.92</td>\n      <td>22.91</td>\n      <td>43</td>\n      <td>100</td>\n      <td>4.34</td>\n      <td>RU</td>\n      <td>1594538989</td>\n    </tr>\n    <tr>\n      <th>33</th>\n      <td>Nikolskoye</td>\n      <td>59.70</td>\n      <td>30.79</td>\n      <td>18.89</td>\n      <td>67</td>\n      <td>75</td>\n      <td>3.00</td>\n      <td>RU</td>\n      <td>1594538991</td>\n    </tr>\n    <tr>\n      <th>34</th>\n      <td>Guerrero Negro</td>\n      <td>27.98</td>\n      <td>-114.06</td>\n      <td>22.59</td>\n      <td>60</td>\n      <td>93</td>\n      <td>5.44</td>\n      <td>MX</td>\n      <td>1594538991</td>\n    </tr>\n    <tr>\n      <th>43</th>\n      <td>Yar-Sale</td>\n      <td>66.83</td>\n      <td>70.83</td>\n      <td>16.61</td>\n      <td>60</td>\n      <td>86</td>\n      <td>2.22</td>\n      <td>RU</td>\n      <td>1594538993</td>\n    </tr>\n    <tr>\n      <th>45</th>\n      <td>Dalvik</td>\n      <td>65.97</td>\n      <td>-18.53</td>\n      <td>14.00</td>\n      <td>58</td>\n      <td>40</td>\n      <td>1.50</td>\n      <td>IS</td>\n      <td>1594538994</td>\n    </tr>\n    <tr>\n      <th>77</th>\n      <td>Constitución</td>\n      <td>-35.33</td>\n      <td>-72.42</td>\n      <td>8.99</td>\n      <td>71</td>\n      <td>100</td>\n      <td>1.83</td>\n      <td>CL</td>\n      <td>1594539002</td>\n    </tr>\n    <tr>\n      <th>79</th>\n      <td>Vostok</td>\n      <td>46.49</td>\n      <td>135.88</td>\n      <td>21.54</td>\n      <td>67</td>\n      <td>55</td>\n      <td>0.66</td>\n      <td>RU</td>\n      <td>1594539002</td>\n    </tr>\n    <tr>\n      <th>81</th>\n      <td>Neuquén</td>\n      <td>-38.95</td>\n      <td>-68.06</td>\n      <td>6.00</td>\n      <td>66</td>\n      <td>100</td>\n      <td>2.10</td>\n      <td>AR</td>\n      <td>1594538956</td>\n    </tr>\n  </tbody>\n</table>\n</div>"
     },
     "metadata": {},
     "execution_count": 8
    }
   ],
   "source": [
    "# Max 10 pina\n",
    "top10_df = ideal_df[:10]\n",
    "top10_df"
   ]
  },
  {
   "cell_type": "markdown",
   "metadata": {},
   "source": [
    "### Hotel Map\n",
    "* Store into variable named `hotel_df`.\n",
    "* Add a \"Hotel Name\" column to the DataFrame.\n",
    "* Set parameters to search for hotels with 5000 meters.\n",
    "* Hit the Google Places API for each city's coordinates.\n",
    "* Store the first Hotel result into the DataFrame.\n",
    "* Plot markers on top of the heatmap."
   ]
  },
  {
   "cell_type": "code",
   "execution_count": 9,
   "metadata": {},
   "outputs": [],
   "source": [
    "hotel_df = top10_df\n",
    "hotel_df['Hotel Name'] = ''\n",
    "hotel_df.head()\n",
    "\n",
    "# Set params for hotel search\n",
    "location = ''\n",
    "base_url = \"https://maps.googleapis.com/maps/api/place/nearbysearch/json\"\n",
    "params = {\n",
    "    'radius': '5000',\n",
    "    'type': 'hotel',\n",
    "    'key': g_key,\n",
    "}"
   ]
  },
  {
   "cell_type": "code",
   "execution_count": 10,
   "metadata": {
    "tags": []
   },
   "outputs": [],
   "source": [
    "# using iterrows iterate through df\n",
    "for index, row in hotel_df.iterrows():\n",
    "    location = str(row['Lat']) + ', ' + str(row['Lng'])\n",
    "    params['location'] = location\n",
    "    response = requests.get(base_url,params=params).json()\n",
    "    results = response['results']\n",
    "    try:\n",
    "        hotel_df.loc[index, 'Hotel Name'] = results[0]['name']\n",
    "    except IndexError:\n",
    "        pass"
   ]
  },
  {
   "cell_type": "code",
   "execution_count": 11,
   "metadata": {},
   "outputs": [
    {
     "output_type": "execute_result",
     "data": {
      "text/plain": "              City    Lat     Lng  Max Temp  Humidity  Cloudiness  Wind Speed  \\\n1          College  64.86 -147.80     17.00        63          40        1.50   \n21         Ushuaia -54.80  -68.30      2.00        74          39        7.70   \n27      Chokurdakh  70.63  147.92     22.91        43         100        4.34   \n33      Nikolskoye  59.70   30.79     18.89        67          75        3.00   \n34  Guerrero Negro  27.98 -114.06     22.59        60          93        5.44   \n43        Yar-Sale  66.83   70.83     16.61        60          86        2.22   \n45          Dalvik  65.97  -18.53     14.00        58          40        1.50   \n77    Constitución -35.33  -72.42      8.99        71         100        1.83   \n79          Vostok  46.49  135.88     21.54        67          55        0.66   \n81         Neuquén -38.95  -68.06      6.00        66         100        2.10   \n\n   Country        Date           Hotel Name  \n1       US  1594538983            Fairbanks  \n21      AR  1594538988              Ushuaia  \n27      RU  1594538989           Chokurdakh  \n33      RU  1594538991     Saint Petersburg  \n34      MX  1594538991       Guerrero Negro  \n43      RU  1594538993             Yar-Sale  \n45      IS  1594538994               Dalvik  \n77      CL  1594539002         Constitución  \n79      RU  1594539002  Work.Primorskiy GOK  \n81      AR  1594538956              Neuquen  ",
      "text/html": "<div>\n<style scoped>\n    .dataframe tbody tr th:only-of-type {\n        vertical-align: middle;\n    }\n\n    .dataframe tbody tr th {\n        vertical-align: top;\n    }\n\n    .dataframe thead th {\n        text-align: right;\n    }\n</style>\n<table border=\"1\" class=\"dataframe\">\n  <thead>\n    <tr style=\"text-align: right;\">\n      <th></th>\n      <th>City</th>\n      <th>Lat</th>\n      <th>Lng</th>\n      <th>Max Temp</th>\n      <th>Humidity</th>\n      <th>Cloudiness</th>\n      <th>Wind Speed</th>\n      <th>Country</th>\n      <th>Date</th>\n      <th>Hotel Name</th>\n    </tr>\n  </thead>\n  <tbody>\n    <tr>\n      <th>1</th>\n      <td>College</td>\n      <td>64.86</td>\n      <td>-147.80</td>\n      <td>17.00</td>\n      <td>63</td>\n      <td>40</td>\n      <td>1.50</td>\n      <td>US</td>\n      <td>1594538983</td>\n      <td>Fairbanks</td>\n    </tr>\n    <tr>\n      <th>21</th>\n      <td>Ushuaia</td>\n      <td>-54.80</td>\n      <td>-68.30</td>\n      <td>2.00</td>\n      <td>74</td>\n      <td>39</td>\n      <td>7.70</td>\n      <td>AR</td>\n      <td>1594538988</td>\n      <td>Ushuaia</td>\n    </tr>\n    <tr>\n      <th>27</th>\n      <td>Chokurdakh</td>\n      <td>70.63</td>\n      <td>147.92</td>\n      <td>22.91</td>\n      <td>43</td>\n      <td>100</td>\n      <td>4.34</td>\n      <td>RU</td>\n      <td>1594538989</td>\n      <td>Chokurdakh</td>\n    </tr>\n    <tr>\n      <th>33</th>\n      <td>Nikolskoye</td>\n      <td>59.70</td>\n      <td>30.79</td>\n      <td>18.89</td>\n      <td>67</td>\n      <td>75</td>\n      <td>3.00</td>\n      <td>RU</td>\n      <td>1594538991</td>\n      <td>Saint Petersburg</td>\n    </tr>\n    <tr>\n      <th>34</th>\n      <td>Guerrero Negro</td>\n      <td>27.98</td>\n      <td>-114.06</td>\n      <td>22.59</td>\n      <td>60</td>\n      <td>93</td>\n      <td>5.44</td>\n      <td>MX</td>\n      <td>1594538991</td>\n      <td>Guerrero Negro</td>\n    </tr>\n    <tr>\n      <th>43</th>\n      <td>Yar-Sale</td>\n      <td>66.83</td>\n      <td>70.83</td>\n      <td>16.61</td>\n      <td>60</td>\n      <td>86</td>\n      <td>2.22</td>\n      <td>RU</td>\n      <td>1594538993</td>\n      <td>Yar-Sale</td>\n    </tr>\n    <tr>\n      <th>45</th>\n      <td>Dalvik</td>\n      <td>65.97</td>\n      <td>-18.53</td>\n      <td>14.00</td>\n      <td>58</td>\n      <td>40</td>\n      <td>1.50</td>\n      <td>IS</td>\n      <td>1594538994</td>\n      <td>Dalvik</td>\n    </tr>\n    <tr>\n      <th>77</th>\n      <td>Constitución</td>\n      <td>-35.33</td>\n      <td>-72.42</td>\n      <td>8.99</td>\n      <td>71</td>\n      <td>100</td>\n      <td>1.83</td>\n      <td>CL</td>\n      <td>1594539002</td>\n      <td>Constitución</td>\n    </tr>\n    <tr>\n      <th>79</th>\n      <td>Vostok</td>\n      <td>46.49</td>\n      <td>135.88</td>\n      <td>21.54</td>\n      <td>67</td>\n      <td>55</td>\n      <td>0.66</td>\n      <td>RU</td>\n      <td>1594539002</td>\n      <td>Work.Primorskiy GOK</td>\n    </tr>\n    <tr>\n      <th>81</th>\n      <td>Neuquén</td>\n      <td>-38.95</td>\n      <td>-68.06</td>\n      <td>6.00</td>\n      <td>66</td>\n      <td>100</td>\n      <td>2.10</td>\n      <td>AR</td>\n      <td>1594538956</td>\n      <td>Neuquen</td>\n    </tr>\n  </tbody>\n</table>\n</div>"
     },
     "metadata": {},
     "execution_count": 11
    }
   ],
   "source": [
    "hotel_df"
   ]
  },
  {
   "cell_type": "code",
   "execution_count": 12,
   "metadata": {},
   "outputs": [],
   "source": [
    "# NOTE: Do not change any of the code in this cell\n",
    "\n",
    "# Using the template add the hotel marks to the heatmap\n",
    "info_box_template = \"\"\"\n",
    "<dl>\n",
    "<dt>Name</dt><dd>{Hotel Name}</dd>\n",
    "<dt>City</dt><dd>{City}</dd>\n",
    "<dt>Country</dt><dd>{Country}</dd>\n",
    "</dl>\n",
    "\"\"\"\n",
    "# Store the DataFrame Row\n",
    "# NOTE: be sure to update with your DataFrame name\n",
    "hotel_info = [info_box_template.format(**row) for index, row in hotel_df.iterrows()]\n",
    "locations = hotel_df[[\"Lat\", \"Lng\"]]"
   ]
  },
  {
   "cell_type": "code",
   "execution_count": 13,
   "metadata": {},
   "outputs": [
    {
     "output_type": "display_data",
     "data": {
      "text/plain": "Figure(layout=FigureLayout(height='420px'))",
      "application/vnd.jupyter.widget-view+json": {
       "version_major": 2,
       "version_minor": 0,
       "model_id": "d7379f8a841e4fe1af56d30326a34e5d"
      }
     },
     "metadata": {}
    }
   ],
   "source": [
    "# Add marker layer ontop of heat map\n",
    "marker_layer = gmaps.marker_layer(locations, display_info_box=True, info_box_content=hotel_info)\n",
    "\n",
    "fig_humidity.add_layer(marker_layer)\n",
    "\n",
    "# Display figure\n",
    "fig_humidity\n"
   ]
  },
  {
   "cell_type": "code",
   "execution_count": null,
   "metadata": {},
   "outputs": [],
   "source": []
  }
 ],
 "metadata": {
  "kernelspec": {
   "display_name": "Python 3.7.6 64-bit ('base': conda)",
   "language": "python",
   "name": "python_defaultSpec_1594537217588"
  },
  "language_info": {
   "codemirror_mode": {
    "name": "ipython",
    "version": 3
   },
   "file_extension": ".py",
   "mimetype": "text/x-python",
   "name": "python",
   "nbconvert_exporter": "python",
   "pygments_lexer": "ipython3",
   "version": "3.7.6"
  },
  "latex_envs": {
   "LaTeX_envs_menu_present": true,
   "autoclose": false,
   "autocomplete": true,
   "bibliofile": "biblio.bib",
   "cite_by": "apalike",
   "current_citInitial": 1,
   "eqLabelWithNumbers": true,
   "eqNumInitial": 1,
   "hotkeys": {
    "equation": "Ctrl-E",
    "itemize": "Ctrl-I"
   },
   "labels_anchors": false,
   "latex_user_defs": false,
   "report_style_numbering": false,
   "user_envs_cfg": false
  }
 },
 "nbformat": 4,
 "nbformat_minor": 2
}